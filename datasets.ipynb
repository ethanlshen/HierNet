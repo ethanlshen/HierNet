{
 "cells": [
  {
   "cell_type": "code",
   "execution_count": 35,
   "id": "54d644cc",
   "metadata": {},
   "outputs": [],
   "source": [
    "from robustness.tools.breeds_helpers import setup_breeds\n",
    "from robustness.tools.breeds_helpers import ClassHierarchy\n",
    "from robustness.tools.breeds_helpers import BreedsDatasetGenerator\n",
    "from robustness.tools.breeds_helpers import print_dataset_info\n",
    "import os\n",
    "import random\n",
    "import torch"
   ]
  },
  {
   "cell_type": "code",
   "execution_count": 36,
   "id": "663c97b5",
   "metadata": {},
   "outputs": [],
   "source": [
    "data_dir = '/mnt/nvme0n1p2/data/ImageNet-1K'\n",
    "info_dir = '../datasets/breeds_info'\n",
    "num_workers = 1\n",
    "batch_size = 5\n",
    "\n",
    "if not (os.path.exists(info_dir) and len(os.listdir(info_dir))):\n",
    "    print(\"Downloading class hierarchy information...\")\n",
    "    setup_breeds(info_dir)\n",
    "\n",
    "hier = ClassHierarchy(info_dir)\n",
    "DG = BreedsDatasetGenerator(info_dir)"
   ]
  },
  {
   "cell_type": "code",
   "execution_count": 37,
   "id": "1b6a0fb4",
   "metadata": {},
   "outputs": [],
   "source": [
    "f = './files/dataset_info.pt'\n",
    "dataset_info = torch.load(f)\n",
    "level = 5 # Level to pick superclasses from\n",
    "n_superclasses = 10 # Number of superclasses\n",
    "sub_per_super = 2 # Number of subclasses per superclass\n",
    "root_list = ['dummy63', 'n03051540'] # Specify roots to use\n",
    "use_root = False # Whether to use root_list\n",
    "save = False # Whether to save new dataset to dataset info file\n",
    "root_level = 3"
   ]
  },
  {
   "cell_type": "code",
   "execution_count": 38,
   "id": "ef0037b9",
   "metadata": {},
   "outputs": [],
   "source": [
    "def delete_key(k, f):\n",
    "    \"\"\"\n",
    "    Delete a key from the dataset file at file f.\n",
    "    \"\"\"\n",
    "    dataset_info = torch.load(f)\n",
    "    del dataset_info[k]\n",
    "    torch.save(dataset_info, f)\n",
    "    \n",
    "def rename_key(k, k1, f):\n",
    "    \"\"\"\n",
    "    Rename a key from the dataset file at file f.\n",
    "    \"\"\"\n",
    "    dataset_info = torch.load(f)\n",
    "    dataset_info[k1] = dataset_info[k]\n",
    "    del dataset_info[k]\n",
    "    torch.save(dataset_info, f)"
   ]
  },
  {
   "cell_type": "code",
   "execution_count": 39,
   "id": "2388eca5",
   "metadata": {},
   "outputs": [
    {
     "name": "stdout",
     "output_type": "stream",
     "text": [
      "3 n01861778\n",
      "3 n02671780\n",
      "3 n03574816\n",
      "3 n04341686\n"
     ]
    }
   ],
   "source": [
    "for i in range(root_level, root_level+1):\n",
    "    if use_root: \n",
    "        l = root_list\n",
    "    else:\n",
    "        l = hier.get_nodes_at_level(i)\n",
    "    for n, k in enumerate(sorted(l)):\n",
    "        superclasses, subclass_split, label_map = DG.get_superclasses(level=level,\n",
    "                      Nsubclasses=sub_per_super,\n",
    "                      split=None, \n",
    "                      ancestor=k, \n",
    "                      balanced=True) # fix subclass/superclass (adjust for long tail)\n",
    "        if len(subclass_split[0]) >= n_superclasses:\n",
    "            # Create reduced splits\n",
    "            if save:\n",
    "                r_idx = sorted(random.sample([t for t in range(len(subclass_split[0]))], n_superclasses))\n",
    "                subclass_red = []\n",
    "                superclasses_red = []\n",
    "                label_map_tmp = {}\n",
    "                for idx in r_idx:\n",
    "                    subclass_red.append(subclass_split[0][idx])\n",
    "                    superclasses_red.append(superclasses[idx])\n",
    "                    label_map_tmp[idx] = label_map[idx]\n",
    "\n",
    "                # Adjust label map\n",
    "                ct = 0\n",
    "                label_map_red = {}\n",
    "                for key in sorted(label_map_tmp.keys()):\n",
    "                    label_map_red[ct] = label_map_tmp[key]\n",
    "                    ct += 1\n",
    "                    \n",
    "                # Store cstm{id}_r{root level}_l{superclass level}\n",
    "                dataset_info[f'cstm{n}_r{i}_l{level}'] = {'n_superclasses': len(r_idx), \n",
    "                                                          'n_subclasses': len(r_idx) * sub_per_super,\n",
    "                                                          'superclasses': superclasses_red,\n",
    "                                                          'label_map': label_map_red,\n",
    "                                                          'subclass_split': (subclass_red, []),\n",
    "                                                          'root': k}\n",
    "            else:\n",
    "                print(i, k)"
   ]
  },
  {
   "cell_type": "code",
   "execution_count": 41,
   "id": "54f99962",
   "metadata": {},
   "outputs": [
    {
     "data": {
      "text/plain": [
       "dict_keys(['ds7_r2_l5', 'ds0_r0_l5', 'ds1_r0_l5', 'ds2_r0_l5', 'ds3_r0_l5', 'ds4_r0_l5', 'ds5_r2_l5', 'ds6_r2_l5', 'ds8_r3_l5', 'ds9_r3_l5', 'ds10_r3_l5', 'ds11_r3_l5'])"
      ]
     },
     "execution_count": 41,
     "metadata": {},
     "output_type": "execute_result"
    }
   ],
   "source": [
    "if save:\n",
    "    torch.save(dataset_info, './files/dataset_info.pt') "
   ]
  }
 ],
 "metadata": {
  "kernelspec": {
   "display_name": "Python 3 (ipykernel)",
   "language": "python",
   "name": "python3"
  },
  "language_info": {
   "codemirror_mode": {
    "name": "ipython",
    "version": 3
   },
   "file_extension": ".py",
   "mimetype": "text/x-python",
   "name": "python",
   "nbconvert_exporter": "python",
   "pygments_lexer": "ipython3",
   "version": "3.10.11"
  }
 },
 "nbformat": 4,
 "nbformat_minor": 5
}
